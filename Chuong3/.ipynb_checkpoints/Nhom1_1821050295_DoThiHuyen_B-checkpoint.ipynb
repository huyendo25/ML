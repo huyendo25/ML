{
 "cells": [
  {
   "cell_type": "markdown",
   "metadata": {},
   "source": [
    "<h2 align='center'> MÔN HỌC: KỸ NGHỆ TRI THỨC VÀ HỌC MÁY (7080510) </h2>\n",
    "\n",
    "---\n",
    "\n",
    "* Mã sinh viên: 1821050295\n",
    "* Họ và tên: Đỗ Thị Huyền\n",
    "* Lớp/Nhóm môn học: DCCTPM63A / Nhóm 01\n",
    "* Email: huyenjy@gmail.com\n",
    "\n",
    "---\n",
    "\n",
    "## BÀI KIỂM TRA ĐIỂM B\n",
    "\n",
    "---\n",
    "## 1. TẢI TẬP DỮ LIỆU Data_Practice4_ok.csv VÀ QUAN SÁT TẬP DỮ LIỆU\n",
    "---\n"
   ]
  },
  {
   "cell_type": "code",
   "execution_count": 1,
   "metadata": {},
   "outputs": [],
   "source": [
    "#Gọi các thư viện:\n",
    "import pandas as pd\n",
    "import numpy as np\n",
    "import nltk as nltk\n",
    "import matplotlib.pyplot as plt\n",
    "from sklearn.model_selection import train_test_split\n",
    "from sklearn import naive_bayes\n",
    "import warnings\n",
    "warnings.filterwarnings('ignore')"
   ]
  },
  {
   "cell_type": "code",
   "execution_count": 2,
   "metadata": {},
   "outputs": [
    {
     "name": "stdout",
     "output_type": "stream",
     "text": [
      "<class 'pandas.core.frame.DataFrame'>\n",
      "RangeIndex: 961 entries, 0 to 960\n",
      "Data columns (total 5 columns):\n",
      " #   Column   Non-Null Count  Dtype\n",
      "---  ------   --------------  -----\n",
      " 0   Age      961 non-null    int64\n",
      " 1   Shape    961 non-null    int64\n",
      " 2   Margin   961 non-null    int64\n",
      " 3   Density  961 non-null    int64\n",
      " 4   Target   961 non-null    int64\n",
      "dtypes: int64(5)\n",
      "memory usage: 37.7 KB\n"
     ]
    }
   ],
   "source": [
    "#Đọc file dữ liệu Data_NLP.csv vào biến data\n",
    "path='Data/Data_Practice4_ok.csv'\n",
    "data = pd.read_csv(path)\n",
    "data.info()"
   ]
  },
  {
   "cell_type": "code",
   "execution_count": 3,
   "metadata": {},
   "outputs": [
    {
     "data": {
      "text/html": [
       "<div>\n",
       "<style scoped>\n",
       "    .dataframe tbody tr th:only-of-type {\n",
       "        vertical-align: middle;\n",
       "    }\n",
       "\n",
       "    .dataframe tbody tr th {\n",
       "        vertical-align: top;\n",
       "    }\n",
       "\n",
       "    .dataframe thead th {\n",
       "        text-align: right;\n",
       "    }\n",
       "</style>\n",
       "<table border=\"1\" class=\"dataframe\">\n",
       "  <thead>\n",
       "    <tr style=\"text-align: right;\">\n",
       "      <th></th>\n",
       "      <th>Age</th>\n",
       "      <th>Shape</th>\n",
       "      <th>Margin</th>\n",
       "      <th>Density</th>\n",
       "      <th>Target</th>\n",
       "    </tr>\n",
       "  </thead>\n",
       "  <tbody>\n",
       "    <tr>\n",
       "      <th>0</th>\n",
       "      <td>3</td>\n",
       "      <td>2</td>\n",
       "      <td>4</td>\n",
       "      <td>2</td>\n",
       "      <td>1</td>\n",
       "    </tr>\n",
       "    <tr>\n",
       "      <th>1</th>\n",
       "      <td>1</td>\n",
       "      <td>0</td>\n",
       "      <td>0</td>\n",
       "      <td>2</td>\n",
       "      <td>1</td>\n",
       "    </tr>\n",
       "    <tr>\n",
       "      <th>2</th>\n",
       "      <td>2</td>\n",
       "      <td>3</td>\n",
       "      <td>4</td>\n",
       "      <td>2</td>\n",
       "      <td>1</td>\n",
       "    </tr>\n",
       "    <tr>\n",
       "      <th>3</th>\n",
       "      <td>0</td>\n",
       "      <td>0</td>\n",
       "      <td>0</td>\n",
       "      <td>2</td>\n",
       "      <td>0</td>\n",
       "    </tr>\n",
       "    <tr>\n",
       "      <th>4</th>\n",
       "      <td>3</td>\n",
       "      <td>0</td>\n",
       "      <td>4</td>\n",
       "      <td>2</td>\n",
       "      <td>1</td>\n",
       "    </tr>\n",
       "  </tbody>\n",
       "</table>\n",
       "</div>"
      ],
      "text/plain": [
       "   Age  Shape  Margin  Density  Target\n",
       "0    3      2       4        2       1\n",
       "1    1      0       0        2       1\n",
       "2    2      3       4        2       1\n",
       "3    0      0       0        2       0\n",
       "4    3      0       4        2       1"
      ]
     },
     "execution_count": 3,
     "metadata": {},
     "output_type": "execute_result"
    }
   ],
   "source": [
    "#Hiển thị 5 dòng đầu tiên - cuối cùng\n",
    "data.head()"
   ]
  },
  {
   "cell_type": "code",
   "execution_count": 4,
   "metadata": {},
   "outputs": [
    {
     "data": {
      "text/html": [
       "<div>\n",
       "<style scoped>\n",
       "    .dataframe tbody tr th:only-of-type {\n",
       "        vertical-align: middle;\n",
       "    }\n",
       "\n",
       "    .dataframe tbody tr th {\n",
       "        vertical-align: top;\n",
       "    }\n",
       "\n",
       "    .dataframe thead th {\n",
       "        text-align: right;\n",
       "    }\n",
       "</style>\n",
       "<table border=\"1\" class=\"dataframe\">\n",
       "  <thead>\n",
       "    <tr style=\"text-align: right;\">\n",
       "      <th></th>\n",
       "      <th>Age</th>\n",
       "      <th>Shape</th>\n",
       "      <th>Margin</th>\n",
       "      <th>Density</th>\n",
       "      <th>Target</th>\n",
       "    </tr>\n",
       "  </thead>\n",
       "  <tbody>\n",
       "    <tr>\n",
       "      <th>956</th>\n",
       "      <td>1</td>\n",
       "      <td>1</td>\n",
       "      <td>0</td>\n",
       "      <td>2</td>\n",
       "      <td>0</td>\n",
       "    </tr>\n",
       "    <tr>\n",
       "      <th>957</th>\n",
       "      <td>2</td>\n",
       "      <td>3</td>\n",
       "      <td>4</td>\n",
       "      <td>2</td>\n",
       "      <td>1</td>\n",
       "    </tr>\n",
       "    <tr>\n",
       "      <th>958</th>\n",
       "      <td>2</td>\n",
       "      <td>3</td>\n",
       "      <td>4</td>\n",
       "      <td>2</td>\n",
       "      <td>0</td>\n",
       "    </tr>\n",
       "    <tr>\n",
       "      <th>959</th>\n",
       "      <td>3</td>\n",
       "      <td>3</td>\n",
       "      <td>4</td>\n",
       "      <td>2</td>\n",
       "      <td>1</td>\n",
       "    </tr>\n",
       "    <tr>\n",
       "      <th>960</th>\n",
       "      <td>2</td>\n",
       "      <td>2</td>\n",
       "      <td>2</td>\n",
       "      <td>2</td>\n",
       "      <td>0</td>\n",
       "    </tr>\n",
       "  </tbody>\n",
       "</table>\n",
       "</div>"
      ],
      "text/plain": [
       "     Age  Shape  Margin  Density  Target\n",
       "956    1      1       0        2       0\n",
       "957    2      3       4        2       1\n",
       "958    2      3       4        2       0\n",
       "959    3      3       4        2       1\n",
       "960    2      2       2        2       0"
      ]
     },
     "execution_count": 4,
     "metadata": {},
     "output_type": "execute_result"
    }
   ],
   "source": [
    "data.tail()"
   ]
  },
  {
   "cell_type": "markdown",
   "metadata": {},
   "source": [
    "## 2. Phân tách tập dữ liệu đã xử lý ra các biến Độc lập (X) - Phụ thuộc (Y) tương ứng\n",
    "---\n"
   ]
  },
  {
   "cell_type": "code",
   "execution_count": 5,
   "metadata": {},
   "outputs": [
    {
     "data": {
      "text/plain": [
       "array([[3, 2, 4, 2],\n",
       "       [1, 0, 0, 2],\n",
       "       [2, 3, 4, 2],\n",
       "       ...,\n",
       "       [2, 3, 4, 2],\n",
       "       [3, 3, 4, 2],\n",
       "       [2, 2, 2, 2]], dtype=int64)"
      ]
     },
     "execution_count": 5,
     "metadata": {},
     "output_type": "execute_result"
    }
   ],
   "source": [
    "#1.Tách biến độc lập X_data\n",
    "X_data = data.iloc[:,:-1].values\n",
    "X_data"
   ]
  },
  {
   "cell_type": "code",
   "execution_count": 6,
   "metadata": {},
   "outputs": [
    {
     "data": {
      "text/plain": [
       "(961, 4)"
      ]
     },
     "execution_count": 6,
     "metadata": {},
     "output_type": "execute_result"
    }
   ],
   "source": [
    "X_data.shape"
   ]
  },
  {
   "cell_type": "code",
   "execution_count": 7,
   "metadata": {},
   "outputs": [
    {
     "data": {
      "text/plain": [
       "array([1, 1, 1, 0, 1, 0, 0, 0, 1, 1, 1, 1, 0, 0, 0, 0, 0, 1, 1, 0, 1, 1,\n",
       "       0, 1, 1, 1, 0, 0, 1, 0, 0, 1, 1, 0, 0, 0, 0, 1, 1, 0, 0, 0, 0, 0,\n",
       "       1, 1, 1, 0, 0, 1, 0, 1, 0, 0, 1, 0, 0, 0, 0, 1, 1, 1, 0, 0, 1, 0,\n",
       "       0, 1, 0, 0, 0, 1, 0, 1, 1, 0, 1, 0, 1, 0, 0, 1, 1, 0, 1, 0, 1, 0,\n",
       "       0, 1, 1, 1, 0, 1, 0, 1, 0, 0, 0, 0, 0, 0, 0, 0, 0, 0, 1, 0, 0, 1,\n",
       "       0, 1, 0, 0, 0, 0, 0, 0, 1, 0, 1, 0, 0, 0, 0, 0, 0, 0, 0, 1, 1, 1,\n",
       "       0, 0, 1, 1, 1, 1, 0, 1, 1, 0, 0, 0, 0, 1, 1, 1, 1, 0, 1, 1, 0, 0,\n",
       "       0, 0, 1, 0, 0, 1, 1, 0, 0, 0, 0, 1, 1, 0, 1, 1, 0, 0, 0, 0, 0, 1,\n",
       "       0, 0, 0, 1, 0, 0, 0, 0, 1, 1, 1, 0, 1, 1, 0, 1, 0, 1, 0, 1, 0, 1,\n",
       "       0, 0, 0, 0, 1, 0, 0, 1, 0, 1, 0, 0, 0, 0, 1, 1, 1, 0, 0, 0, 0, 0,\n",
       "       0, 0, 1, 1, 1, 0, 1, 0, 0, 0, 0, 1, 1, 0, 1, 0, 0, 0, 1, 0, 1, 0,\n",
       "       0, 0, 1, 0, 0, 1, 0, 0, 0, 1, 0, 1, 1, 0, 1, 1, 1, 1, 1, 0, 0, 0,\n",
       "       1, 0, 1, 0, 1, 1, 1, 1, 1, 0, 1, 0, 1, 0, 1, 0, 1, 0, 0, 1, 1, 1,\n",
       "       0, 0, 1, 0, 1, 0, 1, 1, 0, 1, 0, 1, 0, 1, 1, 0, 0, 0, 0, 0, 0, 0,\n",
       "       0, 0, 1, 1, 1, 1, 0, 1, 0, 0, 0, 1, 1, 1, 0, 1, 0, 0, 0, 0, 1, 1,\n",
       "       1, 0, 1, 1, 0, 1, 1, 1, 1, 0, 1, 1, 0, 0, 0, 1, 0, 1, 0, 0, 1, 1,\n",
       "       0, 0, 1, 0, 0, 1, 1, 0, 1, 1, 0, 1, 0, 0, 0, 1, 1, 1, 1, 0, 0, 0,\n",
       "       1, 1, 0, 1, 0, 1, 0, 1, 1, 0, 0, 1, 0, 0, 0, 0, 1, 1, 0, 0, 0, 1,\n",
       "       1, 0, 0, 1, 0, 1, 0, 1, 1, 1, 1, 0, 0, 1, 0, 1, 0, 1, 1, 1, 0, 1,\n",
       "       1, 1, 1, 0, 0, 0, 1, 0, 1, 0, 1, 1, 0, 1, 0, 1, 1, 1, 1, 1, 0, 1,\n",
       "       1, 1, 0, 1, 1, 1, 0, 0, 1, 1, 1, 0, 0, 1, 0, 0, 1, 1, 1, 0, 0, 0,\n",
       "       1, 0, 0, 0, 1, 1, 0, 1, 0, 1, 0, 0, 0, 0, 0, 0, 1, 0, 1, 0, 0, 0,\n",
       "       0, 0, 0, 1, 1, 0, 1, 1, 1, 1, 1, 1, 1, 0, 0, 1, 0, 1, 0, 0, 0, 0,\n",
       "       1, 1, 1, 1, 0, 0, 1, 1, 1, 0, 0, 1, 0, 0, 1, 1, 1, 0, 0, 1, 1, 1,\n",
       "       0, 1, 0, 0, 0, 0, 0, 1, 0, 1, 1, 0, 0, 0, 0, 1, 1, 0, 0, 1, 1, 1,\n",
       "       1, 0, 0, 0, 1, 0, 0, 1, 0, 1, 1, 0, 0, 0, 1, 1, 0, 0, 0, 1, 0, 0,\n",
       "       0, 0, 0, 1, 0, 0, 1, 0, 0, 0, 0, 1, 0, 0, 0, 0, 1, 1, 0, 1, 1, 0,\n",
       "       0, 0, 1, 0, 1, 1, 0, 1, 1, 1, 0, 1, 1, 0, 0, 1, 1, 1, 0, 1, 1, 0,\n",
       "       1, 0, 1, 0, 0, 0, 0, 1, 1, 0, 1, 0, 0, 0, 0, 0, 0, 1, 0, 1, 0, 0,\n",
       "       0, 1, 1, 0, 1, 0, 0, 0, 1, 0, 0, 1, 0, 1, 0, 1, 0, 1, 1, 0, 0, 1,\n",
       "       1, 0, 1, 1, 1, 0, 0, 0, 1, 0, 1, 1, 1, 1, 1, 1, 1, 1, 1, 0, 0, 0,\n",
       "       0, 1, 1, 1, 1, 1, 1, 1, 0, 0, 1, 1, 0, 0, 0, 1, 0, 1, 1, 1, 0, 1,\n",
       "       0, 1, 0, 0, 1, 0, 0, 0, 1, 1, 0, 0, 0, 1, 1, 0, 0, 0, 1, 0, 1, 0,\n",
       "       1, 1, 0, 0, 1, 1, 0, 0, 0, 0, 0, 1, 0, 0, 0, 0, 0, 0, 0, 0, 1, 0,\n",
       "       1, 0, 0, 0, 1, 1, 0, 0, 1, 1, 1, 1, 0, 1, 1, 1, 0, 1, 1, 0, 0, 1,\n",
       "       0, 0, 1, 0, 1, 0, 0, 0, 0, 0, 0, 0, 1, 1, 0, 1, 0, 1, 1, 0, 0, 1,\n",
       "       1, 0, 0, 1, 1, 1, 0, 1, 1, 1, 0, 0, 0, 1, 1, 0, 1, 0, 1, 1, 1, 0,\n",
       "       1, 0, 0, 0, 0, 0, 1, 0, 0, 1, 1, 0, 1, 1, 0, 1, 1, 0, 1, 1, 0, 1,\n",
       "       0, 1, 0, 0, 0, 0, 1, 0, 0, 0, 0, 0, 1, 0, 0, 1, 0, 0, 1, 0, 1, 0,\n",
       "       1, 1, 1, 1, 1, 1, 1, 0, 1, 0, 0, 0, 1, 0, 1, 1, 0, 0, 0, 0, 1, 0,\n",
       "       1, 1, 0, 1, 1, 1, 0, 1, 1, 1, 1, 1, 1, 0, 0, 1, 0, 1, 0, 1, 1, 1,\n",
       "       0, 1, 1, 0, 0, 1, 1, 0, 1, 0, 1, 0, 1, 0, 0, 1, 0, 0, 0, 1, 0, 1,\n",
       "       1, 0, 1, 0, 1, 0, 0, 1, 0, 0, 0, 1, 0, 0, 0, 0, 1, 0, 1, 0, 1, 0,\n",
       "       0, 0, 1, 0, 1, 1, 1, 0, 0, 1, 0, 1, 0, 1, 0], dtype=int64)"
      ]
     },
     "execution_count": 7,
     "metadata": {},
     "output_type": "execute_result"
    }
   ],
   "source": [
    "#2.Tách biến phụ thuộc y_data\n",
    "y_data = data.iloc[:,-1].values\n",
    "y_data"
   ]
  },
  {
   "cell_type": "code",
   "execution_count": 8,
   "metadata": {},
   "outputs": [
    {
     "data": {
      "text/plain": [
       "(961,)"
      ]
     },
     "execution_count": 8,
     "metadata": {},
     "output_type": "execute_result"
    }
   ],
   "source": [
    "y_data.shape"
   ]
  },
  {
   "cell_type": "markdown",
   "metadata": {},
   "source": [
    "## 3. Chia tập dữ liệu thành 2 phần Train - Test với tỷ lệ 80%-20%\n",
    "---\n",
    "* Tập train (80%) huấn luyện model\n",
    "* Tập test (20%) đánh giá độ chính xác của model"
   ]
  },
  {
   "cell_type": "code",
   "execution_count": 9,
   "metadata": {},
   "outputs": [
    {
     "name": "stdout",
     "output_type": "stream",
     "text": [
      "1.Tập ban đầu: (961, 5)\n",
      "-----------------------\n",
      "a.Tập Train:  (768, 4)\n",
      "b.Tập Test:  (193, 4)\n"
     ]
    }
   ],
   "source": [
    "X_train, X_test, y_train, y_test = train_test_split(X_data,\n",
    "                                                    y_data,\n",
    "                                                    test_size=0.2,\n",
    "                                                    random_state=42)\n",
    "print('1.Tập ban đầu:',data.shape)\n",
    "print('-----------------------')\n",
    "print('a.Tập Train: ', X_train.shape)\n",
    "print('b.Tập Test: ', X_test.shape)"
   ]
  },
  {
   "cell_type": "markdown",
   "metadata": {},
   "source": [
    "## 4. Xây dựng model dự đoán với thuật toán Multinomial Naïve Bayes\n",
    "---\n"
   ]
  },
  {
   "cell_type": "code",
   "execution_count": 10,
   "metadata": {},
   "outputs": [
    {
     "name": "stdout",
     "output_type": "stream",
     "text": [
      "Độ chính xác của mô hình trên tập huấn luyện:  78.65 %\n",
      "Độ chính xác trên tập kiểm thử đạt: 79.27 %\n",
      "---------------------------------------------\n",
      "1. Tổng số mẫu dự đoán đúng: 153  / 193\n",
      "2. Tổng số mẫu dự đoán sai: 40  / 193\n"
     ]
    }
   ],
   "source": [
    "#Khai báo sử dụng model Multinomial Naive bayes:\n",
    "MultiNB = naive_bayes.MultinomialNB(alpha=0.75)\n",
    "\n",
    "#huấn luyện mô hình với tập huấn luyện Train\n",
    "MultiNB.fit(X_train,y_train)\n",
    "\n",
    "#Đánh giá độ chính xác của mô hình trên tập huấn luyện \n",
    "print('Độ chính xác của mô hình trên tập huấn luyện: ', round(MultiNB.score(X_train, y_train) * 100, 2), '%')\n",
    "\n",
    "#Đánh giá độ chính xác trên tập kiểm thử\n",
    "y_pred = MultiNB.predict(X_test)\n",
    "\n",
    "from sklearn.metrics import accuracy_score\n",
    "acc = accuracy_score(y_test, y_pred)\n",
    "print(\"Độ chính xác trên tập kiểm thử đạt:\", round(acc*100,2), '%')\n",
    "print('---------------------------------------------')\n",
    "\n",
    "#Tổng số mẫu dự đoán đúng sai\n",
    "acc1 = accuracy_score(y_test, y_pred, normalize=False)\n",
    "print('1. Tổng số mẫu dự đoán đúng:', acc1, ' /', len(y_test))\n",
    "print('2. Tổng số mẫu dự đoán sai:', len(y_test) - acc1, ' /', len(y_test))"
   ]
  },
  {
   "cell_type": "markdown",
   "metadata": {},
   "source": [
    "### Tùy chỉnh tham số Alpha của model, đánh giá độ chính xác:\n",
    "---"
   ]
  },
  {
   "cell_type": "code",
   "execution_count": 11,
   "metadata": {},
   "outputs": [
    {
     "name": "stdout",
     "output_type": "stream",
     "text": [
      "Độ chính xác của mô hình trên tập huấn luyện:  78.65 %\n",
      "Độ chính xác trên tập kiểm thử đạt: 79.27 %\n",
      "---------------------------------------------\n",
      "1. Tổng số mẫu dự đoán đúng: 153  / 193\n",
      "2. Tổng số mẫu dự đoán sai: 40  / 193\n"
     ]
    }
   ],
   "source": [
    "#Khai báo sử dụng model Multinomial Naive bayes:\n",
    "MultiNB_0 = naive_bayes.MultinomialNB(alpha=0.5)\n",
    "\n",
    "#huấn luyện mô hình với tập huấn luyện Train\n",
    "MultiNB_0.fit(X_train,y_train)\n",
    "\n",
    "#Đánh giá độ chính xác của mô hình trên tập huấn luyện \n",
    "print('Độ chính xác của mô hình trên tập huấn luyện: ', round(MultiNB_0.score(X_train, y_train) * 100, 2), '%')\n",
    "\n",
    "#Đánh giá độ chính xác trên tập kiểm thử\n",
    "y_pred = MultiNB_0.predict(X_test)\n",
    "\n",
    "from sklearn.metrics import accuracy_score\n",
    "acc_0 = accuracy_score(y_test, y_pred)\n",
    "print(\"Độ chính xác trên tập kiểm thử đạt:\", round(acc_0*100,2), '%')\n",
    "print('---------------------------------------------')\n",
    "\n",
    "#Tổng số mẫu dự đoán đúng sai\n",
    "acc1 = accuracy_score(y_test, y_pred, normalize=False)\n",
    "print('1. Tổng số mẫu dự đoán đúng:', acc1, ' /', len(y_test))\n",
    "print('2. Tổng số mẫu dự đoán sai:', len(y_test) - acc1, ' /', len(y_test))"
   ]
  },
  {
   "cell_type": "markdown",
   "metadata": {},
   "source": [
    "#### Sử dụng grid search\n",
    "---\n",
    "Tham khảo GridSearchCV của thư viện sklearn tại <a href = 'https://scikit-learn.org/stable/modules/generated/sklearn.model_selection.GridSearchCV.html'>đây</a>\n",
    "\n",
    "* **estimator** - (tham số đầu tiên) mô hình học máy Scikit-learning\n",
    "\n",
    "* **param_grid** (dict) - từ điển tham số, dưới đây có 1 chiều, có thể đào tạo 10 mô hình khác nhau với Grid Search!\n",
    "\n",
    "* **scoring** `default=None` - sử dụng để đo lường hiệu suất của mô hình. Ở đây dùng độ chính xác `accuracy`. Để xem đầy đủ, hãy nhấp vào <a href=\"https://scikit-learn.org/stable/modules/model_evaluation.html\">đây</a>\n",
    "\n",
    "* **n_jobs** `int, default=None` - số lượng công việc phải chạy song song `-1` có nghĩa là sử dụng tất cả các bộ xử lý (CPU).\n",
    "\n",
    "* **cv** `int, default=None` - Số lần gấp để xác nhận chéo. Số tiêu chuẩn là `5`, `10`. Mỗi tổ hợp siêu tham số được lặp lại `10` lần vì `cv=10`. Vì vậy, tổng số lần lặp là 100 (10 x 10).\n",
    "\n",
    "* **return_train_score** `bool, default=False` - nếu `False` thì không bao gồm training score. Tính toán training score được sử dụng để hiểu rõ về cách các cài đặt thông số khác nhau ảnh hưởng đến sự cân bằng của việc overfitting/underfitting."
   ]
  },
  {
   "cell_type": "code",
   "execution_count": 12,
   "metadata": {},
   "outputs": [
    {
     "name": "stdout",
     "output_type": "stream",
     "text": [
      "Bộ tham số tối ưu: {'alpha': 0.05}\n",
      "---------------------------------------------\n",
      "1. Độ chính xác của tập huấn luyện: 78.65 %\n",
      "2. Độ chính xác trên tập kiểm thử đạt: 79.27 %\n",
      "---------------------------------------------\n",
      "3. Tổng số mẫu dự đoán đúng: 153  / 193\n",
      "4. Tổng số mẫu dự đoán sai: 40  / 193\n"
     ]
    }
   ],
   "source": [
    "#Xây dựng bộ các tham số\n",
    "t_param_grid = {'alpha':[0.05, 0.1, 0.2, 0.3, 0.4, 0.5, 0.6, 0.7, 0.8, 0.9]}\n",
    "                \n",
    "\n",
    "#Sử dụng GridSearchCV để tự động hóa quá trình tối ưu hóa - điều chỉnh tham số\n",
    "from sklearn.model_selection import GridSearchCV\n",
    "\n",
    "MultiNB_1 = GridSearchCV(MultiNB,\n",
    "                         param_grid=t_param_grid,\n",
    "                         scoring=\"accuracy\",\n",
    "                         n_jobs=-1,\n",
    "                         cv=10,\n",
    "                         return_train_score=True)\n",
    "\n",
    "MultiNB_1.fit(X_train,y_train)\n",
    "\n",
    "#In ra bộ tham số tối ưu\n",
    "print(\"Bộ tham số tối ưu:\", MultiNB_1.best_params_)\n",
    "print('---------------------------------------------')\n",
    "\n",
    "#Độ chính xác của Model trên tập Huấn luyện\n",
    "print(\"1. Độ chính xác của tập huấn luyện:\",round(MultiNB_1.score(X_train,y_train)*100,2), '%')\n",
    "\n",
    "#Đánh giá độ chính xác trên tập kiểm thử\n",
    "y_pred = MultiNB_1.predict(X_test)\n",
    "\n",
    "acc = accuracy_score(y_test, y_pred)\n",
    "print(\"2. Độ chính xác trên tập kiểm thử đạt:\", round(acc*100,2), '%')\n",
    "print('---------------------------------------------')\n",
    "\n",
    "#Tổng số mẫu dự đoán đúng sai\n",
    "acc1 = accuracy_score(y_test, y_pred, normalize=False)\n",
    "print('3. Tổng số mẫu dự đoán đúng:', acc1, ' /', len(y_test))\n",
    "print('4. Tổng số mẫu dự đoán sai:', len(y_test) - acc1, ' /', len(y_test))"
   ]
  },
  {
   "cell_type": "code",
   "execution_count": 13,
   "metadata": {},
   "outputs": [
    {
     "data": {
      "image/png": "[encoded data removed]",
      "text/plain": [
       "<Figure size 432x288 with 2 Axes>"
      ]
     },
     "metadata": {
      "needs_background": "light"
     },
     "output_type": "display_data"
    }
   ],
   "source": [
    "#Hiển thị confusion matrix:\n",
    "from sklearn.metrics import plot_confusion_matrix\n",
    "plot_confusion_matrix(MultiNB_1, X_test, y_test)  \n",
    "plt.show()"
   ]
  },
  {
   "cell_type": "markdown",
   "metadata": {},
   "source": [
    "## 5. Sử dụng model được huấn luyện dự đoán cho bộ dữ liệu mới\n",
    "---\n",
    "Bệnh nhân với các thông số như sau:\n",
    "* Age: 30 tuổi;\n",
    "* Shape: Oval;\n",
    "* Margin: ill-defined\n",
    "* Density: High\n",
    "\n",
    "\n",
    "Sử dụng model ở trên dự đoán xem bệnh nhân này bị u lành tính (0) hay ác tính (1)"
   ]
  },
  {
   "cell_type": "markdown",
   "metadata": {},
   "source": [
    "Age => 30 tuổi chuyển thành 0\n",
    "* Dưới 34 tuổi        :   --> Age = 0\n",
    "* Từ 34 --> 49 tuổi:   --> Age = 1\n",
    "* Từ 49 --> 65 tuổi:   --> Age = 2\n",
    "* Từ 65 --> 80 tuổi:   --> Age = 3\n",
    "* Trên 80 tuổi        :   --> Age = 4\n",
    "\n",
    "Shape => Oval chuyển thành 1\n",
    "* Round = 0, Oval = 1, Lobular = 2, Irregular = 3\n",
    "\n",
    "Margin => ill-defined chuyển thành 3\n",
    "* Circumscribed = 0, Microlobulated = 1, Obscured = 2, ill-defined = 3, Spiculated = 4\n",
    "\n",
    "Density => High chuyển thành 0\n",
    "* High = 0, Iso = 1, Low = 2, Fat-containing = 3"
   ]
  },
  {
   "cell_type": "code",
   "execution_count": 14,
   "metadata": {},
   "outputs": [
    {
     "name": "stdout",
     "output_type": "stream",
     "text": [
      "Thông số mẫu khối u: [[0 1 3 0]]\n",
      "---------------------------------------------\n",
      "MACHINE LEARNING dự đoán xem bệnh nhân này bị u lành tính (0) hay ác tính (1): [1]\n",
      "\n",
      "Đây là khối u ác tính\n"
     ]
    }
   ],
   "source": [
    "X_new = np.array([(0,  1,  3, 0)])\n",
    "\n",
    "print('Thông số mẫu khối u:', X_new)\n",
    "#Xác định lớp của hoa dựa vào các thông số này trên model đã huấn luyện\n",
    "y_new = MultiNB_1.predict(X_new)\n",
    "\n",
    "print('---------------------------------------------')\n",
    "print('MACHINE LEARNING dự đoán xem bệnh nhân này bị u lành tính (0) hay ác tính (1):', y_new)\n",
    "if y_new==0:\n",
    "    print('\\nĐây là khối u lành tính')\n",
    "else:\n",
    "    print('\\nĐây là khối u ác tính')"
   ]
  },
  {
   "cell_type": "code",
   "execution_count": null,
   "metadata": {},
   "outputs": [],
   "source": []
  }
 ],
 "metadata": {
  "kernelspec": {
   "display_name": "Python 3",
   "language": "python",
   "name": "python3"
  },
  "language_info": {
   "codemirror_mode": {
    "name": "ipython",
    "version": 3
   },
   "file_extension": ".py",
   "mimetype": "text/x-python",
   "name": "python",
   "nbconvert_exporter": "python",
   "pygments_lexer": "ipython3",
   "version": "3.8.5"
  }
 },
 "nbformat": 4,
 "nbformat_minor": 4
}
