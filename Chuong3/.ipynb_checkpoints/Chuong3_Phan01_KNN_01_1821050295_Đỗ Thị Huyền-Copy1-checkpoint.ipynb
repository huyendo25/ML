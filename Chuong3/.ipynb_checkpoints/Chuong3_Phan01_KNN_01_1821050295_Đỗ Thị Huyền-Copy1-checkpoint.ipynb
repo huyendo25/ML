{
 "cells": [
  {
   "cell_type": "markdown",
   "metadata": {},
   "source": [
    "\n",
    "\n",
    "<h2 align='center'> MÔN HỌC: KỸ NGHỆ TRI THỨC VÀ HỌC MÁY (7080510) </h2>\n",
    "\n",
    "---\n",
    "* Mã sinh viên: 1821050295\n",
    "* Họ và tên: Đỗ Thị Huyền\n",
    "* Lớp/Nhóm môn học: DCCTPM63A / Nhóm 01\n",
    "* Email: huyenjy@gmail.com\n",
    "---\n",
    "\n",
    "## CHƯƠNG 3: HỌC CÓ GIÁM SÁT (SUPERVISED LEARNING) - Phần 01\n",
    "---\n"
   ]
  },
  {
   "cell_type": "markdown",
   "metadata": {},
   "source": [
    "## B| THỰC HÀNH TRÊN LỚP:\n",
    "---\n",
    "Sử dụng dữ liệu đã được tiền xử lý trong tập Data_titanic_ok.csv của chương 2. Xây dựng model học máy dự đoán khả năng không được cứu (0) - được cứu (1) của hành khách:\n",
    "<img src='Pic/titanic.jpg'>"
   ]
  },
  {
   "cell_type": "code",
   "execution_count": 1,
   "metadata": {},
   "outputs": [
    {
     "name": "stdout",
     "output_type": "stream",
     "text": [
      "<class 'pandas.core.frame.DataFrame'>\n",
      "RangeIndex: 1309 entries, 0 to 1308\n",
      "Data columns (total 7 columns):\n",
      " #   Column    Non-Null Count  Dtype\n",
      "---  ------    --------------  -----\n",
      " 0   Survived  1309 non-null   int64\n",
      " 1   Pclass    1309 non-null   int64\n",
      " 2   Sex       1309 non-null   int64\n",
      " 3   Age       1309 non-null   int64\n",
      " 4   SibSp     1309 non-null   int64\n",
      " 5   Parch     1309 non-null   int64\n",
      " 6   Embarked  1309 non-null   int64\n",
      "dtypes: int64(7)\n",
      "memory usage: 71.7 KB\n"
     ]
    }
   ],
   "source": [
    "#Đọc tập dữ liệu đã xử lý trong chương 2\n",
    "import pandas as pd\n",
    "\n",
    "df_titanic = pd.read_csv('Data/Data_Titanic_ok.csv')\n",
    "df_titanic.info()"
   ]
  },
  {
   "cell_type": "code",
   "execution_count": 2,
   "metadata": {},
   "outputs": [
    {
     "data": {
      "text/plain": [
       "array([[3, 0, 1, 1, 0, 0],\n",
       "       [1, 1, 2, 1, 0, 1],\n",
       "       [3, 1, 1, 0, 0, 0],\n",
       "       ...,\n",
       "       [3, 0, 2, 0, 0, 0],\n",
       "       [3, 0, 1, 0, 0, 0],\n",
       "       [3, 0, 1, 1, 1, 1]], dtype=int64)"
      ]
     },
     "execution_count": 2,
     "metadata": {},
     "output_type": "execute_result"
    }
   ],
   "source": [
    "#Tách biến độc lập - biến phụ thuộc\n",
    "#1.Tách biến độc lập X_titanic\n",
    "X_titanic = df_titanic.iloc[:,1:].values\n",
    "X_titanic"
   ]
  },
  {
   "cell_type": "code",
   "execution_count": 3,
   "metadata": {},
   "outputs": [
    {
     "data": {
      "text/plain": [
       "array([0, 1, 1, ..., 0, 0, 0], dtype=int64)"
      ]
     },
     "execution_count": 3,
     "metadata": {},
     "output_type": "execute_result"
    }
   ],
   "source": [
    "#2.Tách biến độ lập y_titanic\n",
    "y_titanic = df_titanic.iloc[:,0].values\n",
    "y_titanic"
   ]
  },
  {
   "cell_type": "code",
   "execution_count": 4,
   "metadata": {},
   "outputs": [
    {
     "name": "stdout",
     "output_type": "stream",
     "text": [
      "1. Kích thước tập Training:  (981, 6)\n",
      "2. Kích thước tập Testing:  (328, 6)\n"
     ]
    }
   ],
   "source": [
    "#Tách thành tập Train-Test theo tỷ lệ 75-25:\n",
    "from sklearn.model_selection import train_test_split\n",
    "X_titanic_train, X_titanic_test, y_titanic_train, y_titanic_test = train_test_split (X_titanic,\n",
    "                                                                                    y_titanic,\n",
    "                                                                                    test_size=0.25,\n",
    "                                                                                    random_state=42)\n",
    "print ('1. Kích thước tập Training: ', X_titanic_train.shape)\n",
    "print ('2. Kích thước tập Testing: ', X_titanic_test.shape)"
   ]
  },
  {
   "cell_type": "code",
   "execution_count": 5,
   "metadata": {},
   "outputs": [
    {
     "name": "stdout",
     "output_type": "stream",
     "text": [
      "Độ chính xác trên tập Train: 86.54 %\n"
     ]
    }
   ],
   "source": [
    "#Xây dựng model và huấn luyện:\n",
    "from sklearn.neighbors import KNeighborsClassifier\n",
    "from sklearn.metrics import accuracy_score\n",
    "\n",
    "#Khai báo model với các tham số mặc định:\n",
    "KNN_titanic = KNeighborsClassifier()\n",
    "\n",
    "#Huấn luyện model với tập Train:\n",
    "\n",
    "KNN_titanic.fit(X_titanic_train, y_titanic_train)\n",
    "\n",
    "#Độ chính xác của Model trên tập Huấn luyện\n",
    "\n",
    "acc_train = KNN_titanic.score(X_titanic_train,y_titanic_train)\n",
    "print ('Độ chính xác trên tập Train: {} %'.format(round (acc_train*100,2)))\n"
   ]
  },
  {
   "cell_type": "code",
   "execution_count": 6,
   "metadata": {},
   "outputs": [
    {
     "name": "stdout",
     "output_type": "stream",
     "text": [
      "Độ chính xác trên tập Test: 85.98 %\n"
     ]
    }
   ],
   "source": [
    "#Đánh giá độ chính xác:\n",
    "y_titanic_pred = KNN_titanic.predict(X_titanic_test)\n",
    "\n",
    "acc_test = accuracy_score(y_titanic_test,y_titanic_pred)\n",
    "print ('Độ chính xác trên tập Test: {} %'.format(round (acc_test*100,2)))"
   ]
  },
  {
   "cell_type": "markdown",
   "metadata": {},
   "source": [
    "## Thay đổi tham số của mô hình:\n",
    "---\n",
    "**Học Viên Thay đổi các tham số của model KNN-->Xác định bộ tham số có độ chính xác trên tập train - test cao nhất (ưu tiên tập Test)?**\n"
   ]
  },
  {
   "cell_type": "code",
   "execution_count": 7,
   "metadata": {},
   "outputs": [
    {
     "name": "stdout",
     "output_type": "stream",
     "text": [
      "Độ chính xác trên tập Train: 89.91 %\n",
      "Độ chính xác trên tập Test: 82.93 %\n"
     ]
    }
   ],
   "source": [
    "#Thay đổi các tham số của model: đánh giá độ chính xác\n",
    "KNN_titanic1 = KNeighborsClassifier(n_neighbors=7,\n",
    "                                    weights='distance',\n",
    "                                    p=2)\n",
    "#Huấn luyện model với tập Train:\n",
    "\n",
    "KNN_titanic1.fit(X_titanic_train, y_titanic_train)\n",
    "\n",
    "#Độ chính xác của Model trên tập Train:\n",
    "\n",
    "acc_train1 = KNN_titanic1.score(X_titanic_train,y_titanic_train)\n",
    "print ('Độ chính xác trên tập Train: {} %'.format(round (acc_train1*100,2)))\n",
    "\n",
    "#Độ chính xác của Model trên tập Test:\n",
    "\n",
    "acc_test1 = accuracy_score(y_titanic_test, KNN_titanic1.predict(X_titanic_test))\n",
    "print ('Độ chính xác trên tập Test: {} %'.format(round (acc_test1*100,2)))\n"
   ]
  },
  {
   "cell_type": "code",
   "execution_count": 8,
   "metadata": {},
   "outputs": [
    {
     "name": "stdout",
     "output_type": "stream",
     "text": [
      "Độ chính xác trên tập Train: 89.91 %\n",
      "Độ chính xác trên tập Test: 83.23 %\n"
     ]
    }
   ],
   "source": [
    "#Thay đổi các tham số của model: đánh giá độ chính xác\n",
    "KNN_titanic1 = KNeighborsClassifier(n_neighbors=9,\n",
    "                                    weights='distance',\n",
    "                                    p=2)\n",
    "#Huấn luyện model với tập Train:\n",
    "\n",
    "KNN_titanic1.fit(X_titanic_train, y_titanic_train)\n",
    "\n",
    "#Độ chính xác của Model trên tập Train:\n",
    "\n",
    "acc_train1 = KNN_titanic1.score(X_titanic_train,y_titanic_train)\n",
    "print ('Độ chính xác trên tập Train: {} %'.format(round (acc_train1*100,2)))\n",
    "\n",
    "#Độ chính xác của Model trên tập Test:\n",
    "\n",
    "acc_test1 = accuracy_score(y_titanic_test, KNN_titanic1.predict(X_titanic_test))\n",
    "print ('Độ chính xác trên tập Test: {} %'.format(round (acc_test1*100,2)))"
   ]
  },
  {
   "cell_type": "code",
   "execution_count": 9,
   "metadata": {},
   "outputs": [
    {
     "name": "stdout",
     "output_type": "stream",
     "text": [
      "Độ chính xác trên tập Train: 86.75 %\n",
      "Độ chính xác trên tập Test: 86.59 %\n"
     ]
    }
   ],
   "source": [
    "#Thay đổi các tham số của model: đánh giá độ chính xác\n",
    "KNN_titanic1 = KNeighborsClassifier(n_neighbors=9,\n",
    "                                    weights='uniform',\n",
    "                                    p=2)\n",
    "#Huấn luyện model với tập Train:\n",
    "\n",
    "KNN_titanic1.fit(X_titanic_train, y_titanic_train)\n",
    "\n",
    "#Độ chính xác của Model trên tập Train:\n",
    "\n",
    "acc_train1 = KNN_titanic1.score(X_titanic_train,y_titanic_train)\n",
    "print ('Độ chính xác trên tập Train: {} %'.format(round (acc_train1*100,2)))\n",
    "\n",
    "#Độ chính xác của Model trên tập Test:\n",
    "\n",
    "acc_test1 = accuracy_score(y_titanic_test, KNN_titanic1.predict(X_titanic_test))\n",
    "print ('Độ chính xác trên tập Test: {} %'.format(round (acc_test1*100,2)))"
   ]
  },
  {
   "cell_type": "code",
   "execution_count": 10,
   "metadata": {},
   "outputs": [
    {
     "name": "stdout",
     "output_type": "stream",
     "text": [
      "Độ chính xác trên tập Train: 89.91 %\n",
      "Độ chính xác trên tập Test: 82.93 %\n"
     ]
    }
   ],
   "source": [
    "#Thay đổi các tham số của model: đánh giá độ chính xác\n",
    "KNN_titanic1 = KNeighborsClassifier(n_neighbors=11,\n",
    "                                    weights='distance',\n",
    "                                    p=2)\n",
    "#Huấn luyện model với tập Train:\n",
    "\n",
    "KNN_titanic1.fit(X_titanic_train, y_titanic_train)\n",
    "\n",
    "#Độ chính xác của Model trên tập Train:\n",
    "\n",
    "acc_train1 = KNN_titanic1.score(X_titanic_train,y_titanic_train)\n",
    "print ('Độ chính xác trên tập Train: {} %'.format(round (acc_train1*100,2)))\n",
    "\n",
    "#Độ chính xác của Model trên tập Test:\n",
    "\n",
    "acc_test1 = accuracy_score(y_titanic_test, KNN_titanic1.predict(X_titanic_test))\n",
    "print ('Độ chính xác trên tập Test: {} %'.format(round (acc_test1*100,2)))"
   ]
  },
  {
   "cell_type": "code",
   "execution_count": 11,
   "metadata": {},
   "outputs": [
    {
     "name": "stdout",
     "output_type": "stream",
     "text": [
      "Độ chính xác trên tập Train: 86.03 %\n",
      "Độ chính xác trên tập Test: 85.67 %\n"
     ]
    }
   ],
   "source": [
    "#Thay đổi các tham số của model: đánh giá độ chính xác\n",
    "KNN_titanic1 = KNeighborsClassifier(n_neighbors=11,\n",
    "                                    weights='uniform',\n",
    "                                    p=2)\n",
    "#Huấn luyện model với tập Train:\n",
    "\n",
    "KNN_titanic1.fit(X_titanic_train, y_titanic_train)\n",
    "\n",
    "#Độ chính xác của Model trên tập Train:\n",
    "\n",
    "acc_train1 = KNN_titanic1.score(X_titanic_train,y_titanic_train)\n",
    "print ('Độ chính xác trên tập Train: {} %'.format(round (acc_train1*100,2)))\n",
    "\n",
    "#Độ chính xác của Model trên tập Test:\n",
    "\n",
    "acc_test1 = accuracy_score(y_titanic_test, KNN_titanic1.predict(X_titanic_test))\n",
    "print ('Độ chính xác trên tập Test: {} %'.format(round (acc_test1*100,2)))"
   ]
  },
  {
   "cell_type": "markdown",
   "metadata": {},
   "source": [
    "Vậy với bộ tham số\n",
    "\n",
    "1. n_neighbors=9,\n",
    "2. weights='uniform',\n",
    "3. p=2\n",
    "\n",
    "thì Model có độ chính xác cao nhất.\n",
    "\n",
    "1. Độ chính xác trên tập Train: 86.75 %\n",
    "\n",
    "2. Độ chính xác trên tập Test: 86.59 %\n"
   ]
  },
  {
   "cell_type": "markdown",
   "metadata": {},
   "source": [
    "# THỰC HÀNH 6: \n",
    "---\n",
    "Sử dụng thuật toán KNN phân loại rượu dựa vào các thống số liên quan\n",
    "\n",
    "* Tìm hiểu tập dữ liệu mẫu \"Wine recognition dataset\" của Sklearn (đã làm trong chương 2)\n",
    "    - Các biến độc lập (input - features)\n",
    "    - Biến phụ thuộc  (label - target)\n",
    "<img src='pic/win1.png' width='250px'>\n",
    "* Áp dụng thuật toán KNN để phân loại rượu\n",
    "    - Tách tập dữ liệu theo tỷ lệ 75% cho tập huấn luyện - 25% cho tập kiểm tra\n",
    "    - Sử dụng thuật toán KNN với các trường hợp: K= 5, 7, 11, 13 cho biết độ chính xác ứng với từng K đó trên tập Test.\n",
    "    - Áp dụng thuật toán KNN với k=9 và có đánh trọng số các điểm lân cận. Cho biết độ chính xác của thuật toán trên tập Test và Ma trận confusion tương ứng."
   ]
  },
  {
   "cell_type": "code",
   "execution_count": 12,
   "metadata": {},
   "outputs": [
    {
     "name": "stdout",
     "output_type": "stream",
     "text": [
      "<class 'pandas.core.frame.DataFrame'>\n",
      "RangeIndex: 178 entries, 0 to 177\n",
      "Data columns (total 14 columns):\n",
      " #   Column                        Non-Null Count  Dtype  \n",
      "---  ------                        --------------  -----  \n",
      " 0   alcohol                       178 non-null    float64\n",
      " 1   malic_acid                    178 non-null    float64\n",
      " 2   ash                           178 non-null    float64\n",
      " 3   alcalinity_of_ash             178 non-null    float64\n",
      " 4   magnesium                     178 non-null    float64\n",
      " 5   total_phenols                 178 non-null    float64\n",
      " 6   flavanoids                    178 non-null    float64\n",
      " 7   nonflavanoid_phenols          178 non-null    float64\n",
      " 8   proanthocyanins               178 non-null    float64\n",
      " 9   color_intensity               178 non-null    float64\n",
      " 10  hue                           178 non-null    float64\n",
      " 11  od280/od315_of_diluted_wines  178 non-null    float64\n",
      " 12  proline                       178 non-null    float64\n",
      " 13  label                         178 non-null    int32  \n",
      "dtypes: float64(13), int32(1)\n",
      "memory usage: 18.9 KB\n"
     ]
    }
   ],
   "source": [
    "#{HỌC VIÊN VIẾT CODE Ở ĐÂY!}\n",
    "from sklearn.datasets import load_wine\n",
    "from sklearn.model_selection import train_test_split\n",
    "from sklearn.neighbors import KNeighborsClassifier\n",
    "from sklearn.metrics import accuracy_score\n",
    "import pandas as pd\n",
    "\n",
    "data = load_wine()\n",
    "df_wine = pd.DataFrame(data['data'], columns=data['feature_names'])\n",
    "df_wine['label'] = data['target']\n",
    "df_wine.info()"
   ]
  },
  {
   "cell_type": "code",
   "execution_count": 13,
   "metadata": {},
   "outputs": [
    {
     "data": {
      "text/html": [
       "<div>\n",
       "<style scoped>\n",
       "    .dataframe tbody tr th:only-of-type {\n",
       "        vertical-align: middle;\n",
       "    }\n",
       "\n",
       "    .dataframe tbody tr th {\n",
       "        vertical-align: top;\n",
       "    }\n",
       "\n",
       "    .dataframe thead th {\n",
       "        text-align: right;\n",
       "    }\n",
       "</style>\n",
       "<table border=\"1\" class=\"dataframe\">\n",
       "  <thead>\n",
       "    <tr style=\"text-align: right;\">\n",
       "      <th></th>\n",
       "      <th>alcohol</th>\n",
       "      <th>malic_acid</th>\n",
       "      <th>ash</th>\n",
       "      <th>alcalinity_of_ash</th>\n",
       "      <th>magnesium</th>\n",
       "      <th>total_phenols</th>\n",
       "      <th>flavanoids</th>\n",
       "      <th>nonflavanoid_phenols</th>\n",
       "      <th>proanthocyanins</th>\n",
       "      <th>color_intensity</th>\n",
       "      <th>hue</th>\n",
       "      <th>od280/od315_of_diluted_wines</th>\n",
       "      <th>proline</th>\n",
       "      <th>label</th>\n",
       "    </tr>\n",
       "  </thead>\n",
       "  <tbody>\n",
       "    <tr>\n",
       "      <th>count</th>\n",
       "      <td>178.000000</td>\n",
       "      <td>178.000000</td>\n",
       "      <td>178.000000</td>\n",
       "      <td>178.000000</td>\n",
       "      <td>178.000000</td>\n",
       "      <td>178.000000</td>\n",
       "      <td>178.000000</td>\n",
       "      <td>178.000000</td>\n",
       "      <td>178.000000</td>\n",
       "      <td>178.000000</td>\n",
       "      <td>178.000000</td>\n",
       "      <td>178.000000</td>\n",
       "      <td>178.000000</td>\n",
       "      <td>178.000000</td>\n",
       "    </tr>\n",
       "    <tr>\n",
       "      <th>mean</th>\n",
       "      <td>13.000618</td>\n",
       "      <td>2.336348</td>\n",
       "      <td>2.366517</td>\n",
       "      <td>19.494944</td>\n",
       "      <td>99.741573</td>\n",
       "      <td>2.295112</td>\n",
       "      <td>2.029270</td>\n",
       "      <td>0.361854</td>\n",
       "      <td>1.590899</td>\n",
       "      <td>5.058090</td>\n",
       "      <td>0.957449</td>\n",
       "      <td>2.611685</td>\n",
       "      <td>746.893258</td>\n",
       "      <td>0.938202</td>\n",
       "    </tr>\n",
       "    <tr>\n",
       "      <th>std</th>\n",
       "      <td>0.811827</td>\n",
       "      <td>1.117146</td>\n",
       "      <td>0.274344</td>\n",
       "      <td>3.339564</td>\n",
       "      <td>14.282484</td>\n",
       "      <td>0.625851</td>\n",
       "      <td>0.998859</td>\n",
       "      <td>0.124453</td>\n",
       "      <td>0.572359</td>\n",
       "      <td>2.318286</td>\n",
       "      <td>0.228572</td>\n",
       "      <td>0.709990</td>\n",
       "      <td>314.907474</td>\n",
       "      <td>0.775035</td>\n",
       "    </tr>\n",
       "    <tr>\n",
       "      <th>min</th>\n",
       "      <td>11.030000</td>\n",
       "      <td>0.740000</td>\n",
       "      <td>1.360000</td>\n",
       "      <td>10.600000</td>\n",
       "      <td>70.000000</td>\n",
       "      <td>0.980000</td>\n",
       "      <td>0.340000</td>\n",
       "      <td>0.130000</td>\n",
       "      <td>0.410000</td>\n",
       "      <td>1.280000</td>\n",
       "      <td>0.480000</td>\n",
       "      <td>1.270000</td>\n",
       "      <td>278.000000</td>\n",
       "      <td>0.000000</td>\n",
       "    </tr>\n",
       "    <tr>\n",
       "      <th>25%</th>\n",
       "      <td>12.362500</td>\n",
       "      <td>1.602500</td>\n",
       "      <td>2.210000</td>\n",
       "      <td>17.200000</td>\n",
       "      <td>88.000000</td>\n",
       "      <td>1.742500</td>\n",
       "      <td>1.205000</td>\n",
       "      <td>0.270000</td>\n",
       "      <td>1.250000</td>\n",
       "      <td>3.220000</td>\n",
       "      <td>0.782500</td>\n",
       "      <td>1.937500</td>\n",
       "      <td>500.500000</td>\n",
       "      <td>0.000000</td>\n",
       "    </tr>\n",
       "    <tr>\n",
       "      <th>50%</th>\n",
       "      <td>13.050000</td>\n",
       "      <td>1.865000</td>\n",
       "      <td>2.360000</td>\n",
       "      <td>19.500000</td>\n",
       "      <td>98.000000</td>\n",
       "      <td>2.355000</td>\n",
       "      <td>2.135000</td>\n",
       "      <td>0.340000</td>\n",
       "      <td>1.555000</td>\n",
       "      <td>4.690000</td>\n",
       "      <td>0.965000</td>\n",
       "      <td>2.780000</td>\n",
       "      <td>673.500000</td>\n",
       "      <td>1.000000</td>\n",
       "    </tr>\n",
       "    <tr>\n",
       "      <th>75%</th>\n",
       "      <td>13.677500</td>\n",
       "      <td>3.082500</td>\n",
       "      <td>2.557500</td>\n",
       "      <td>21.500000</td>\n",
       "      <td>107.000000</td>\n",
       "      <td>2.800000</td>\n",
       "      <td>2.875000</td>\n",
       "      <td>0.437500</td>\n",
       "      <td>1.950000</td>\n",
       "      <td>6.200000</td>\n",
       "      <td>1.120000</td>\n",
       "      <td>3.170000</td>\n",
       "      <td>985.000000</td>\n",
       "      <td>2.000000</td>\n",
       "    </tr>\n",
       "    <tr>\n",
       "      <th>max</th>\n",
       "      <td>14.830000</td>\n",
       "      <td>5.800000</td>\n",
       "      <td>3.230000</td>\n",
       "      <td>30.000000</td>\n",
       "      <td>162.000000</td>\n",
       "      <td>3.880000</td>\n",
       "      <td>5.080000</td>\n",
       "      <td>0.660000</td>\n",
       "      <td>3.580000</td>\n",
       "      <td>13.000000</td>\n",
       "      <td>1.710000</td>\n",
       "      <td>4.000000</td>\n",
       "      <td>1680.000000</td>\n",
       "      <td>2.000000</td>\n",
       "    </tr>\n",
       "  </tbody>\n",
       "</table>\n",
       "</div>"
      ],
      "text/plain": [
       "          alcohol  malic_acid         ash  alcalinity_of_ash   magnesium  \\\n",
       "count  178.000000  178.000000  178.000000         178.000000  178.000000   \n",
       "mean    13.000618    2.336348    2.366517          19.494944   99.741573   \n",
       "std      0.811827    1.117146    0.274344           3.339564   14.282484   \n",
       "min     11.030000    0.740000    1.360000          10.600000   70.000000   \n",
       "25%     12.362500    1.602500    2.210000          17.200000   88.000000   \n",
       "50%     13.050000    1.865000    2.360000          19.500000   98.000000   \n",
       "75%     13.677500    3.082500    2.557500          21.500000  107.000000   \n",
       "max     14.830000    5.800000    3.230000          30.000000  162.000000   \n",
       "\n",
       "       total_phenols  flavanoids  nonflavanoid_phenols  proanthocyanins  \\\n",
       "count     178.000000  178.000000            178.000000       178.000000   \n",
       "mean        2.295112    2.029270              0.361854         1.590899   \n",
       "std         0.625851    0.998859              0.124453         0.572359   \n",
       "min         0.980000    0.340000              0.130000         0.410000   \n",
       "25%         1.742500    1.205000              0.270000         1.250000   \n",
       "50%         2.355000    2.135000              0.340000         1.555000   \n",
       "75%         2.800000    2.875000              0.437500         1.950000   \n",
       "max         3.880000    5.080000              0.660000         3.580000   \n",
       "\n",
       "       color_intensity         hue  od280/od315_of_diluted_wines      proline  \\\n",
       "count       178.000000  178.000000                    178.000000   178.000000   \n",
       "mean          5.058090    0.957449                      2.611685   746.893258   \n",
       "std           2.318286    0.228572                      0.709990   314.907474   \n",
       "min           1.280000    0.480000                      1.270000   278.000000   \n",
       "25%           3.220000    0.782500                      1.937500   500.500000   \n",
       "50%           4.690000    0.965000                      2.780000   673.500000   \n",
       "75%           6.200000    1.120000                      3.170000   985.000000   \n",
       "max          13.000000    1.710000                      4.000000  1680.000000   \n",
       "\n",
       "            label  \n",
       "count  178.000000  \n",
       "mean     0.938202  \n",
       "std      0.775035  \n",
       "min      0.000000  \n",
       "25%      0.000000  \n",
       "50%      1.000000  \n",
       "75%      2.000000  \n",
       "max      2.000000  "
      ]
     },
     "execution_count": 13,
     "metadata": {},
     "output_type": "execute_result"
    }
   ],
   "source": [
    "#Quan sát đặc trưng thống kê của tập dữ liệu\n",
    "df_wine.describe()"
   ]
  },
  {
   "cell_type": "code",
   "execution_count": 14,
   "metadata": {},
   "outputs": [
    {
     "name": "stdout",
     "output_type": "stream",
     "text": [
      "<class 'numpy.ndarray'>\n",
      "Kích thước biến độc lập X(features): (178, 13)\n",
      "Kích thước biến phụ thuộc y(target)   : (178,)\n"
     ]
    }
   ],
   "source": [
    "#2. ĐỌC DỮ LIỆU MẪU VÀO BIẾN ARRAY X, y\n",
    "#Đọc tập dữ liệu Iris Dataset\n",
    "X_wine, y_wine = load_wine(return_X_y=True)\n",
    "\n",
    "print(type(X_wine))\n",
    "print('Kích thước biến độc lập X(features):', X_wine.shape)\n",
    "print('Kích thước biến phụ thuộc y(target)   :', y_wine.shape)"
   ]
  },
  {
   "cell_type": "code",
   "execution_count": 15,
   "metadata": {},
   "outputs": [
    {
     "name": "stdout",
     "output_type": "stream",
     "text": [
      "1. Kích thước tập Training: 133\n",
      "2. Kích thước tập Test    : 45\n"
     ]
    }
   ],
   "source": [
    "from sklearn.model_selection import train_test_split\n",
    "X_train, X_test, y_train, y_test = train_test_split(X_wine, \n",
    "                                                    y_wine,\n",
    "                                                    test_size=0.25,\n",
    "                                                    random_state=42)\n",
    "\n",
    "print(\"1. Kích thước tập Training: %d\" %len(y_train))\n",
    "print(\"2. Kích thước tập Test    : %d\" %len(y_test))"
   ]
  },
  {
   "cell_type": "code",
   "execution_count": 16,
   "metadata": {},
   "outputs": [
    {
     "name": "stdout",
     "output_type": "stream",
     "text": [
      "Độ chính xác của mô hình phân lớp rượu (k=5 default): 71.11 %\n"
     ]
    }
   ],
   "source": [
    "#Khai báo model KNN sử dụng các tham số mặc định\n",
    "KNN_wine = KNeighborsClassifier()\n",
    "\n",
    "KNN_wine.fit(X_train,y_train)\n",
    "\n",
    "y_pred = KNN_wine.predict(X_test)\n",
    "\n",
    "acc1 = accuracy_score(y_test, y_pred)\n",
    "print('Độ chính xác của mô hình phân lớp rượu (k=5 default): {} %'.format(round(acc1*100,2)))"
   ]
  },
  {
   "cell_type": "code",
   "execution_count": 17,
   "metadata": {},
   "outputs": [
    {
     "name": "stdout",
     "output_type": "stream",
     "text": [
      "Độ chính xác của mô hình phân lớp rượu (k=7): 73.33 %\n"
     ]
    }
   ],
   "source": [
    "# Thay đổi tham số n_neighbors:\n",
    "\n",
    "KNN_wine1 = KNeighborsClassifier(n_neighbors=7)\n",
    "\n",
    "KNN_wine1.fit(X_train,y_train)\n",
    "\n",
    "y_pred = KNN_wine1.predict(X_test)\n",
    "\n",
    "acc1 = accuracy_score(y_test, y_pred)\n",
    "print('Độ chính xác của mô hình phân lớp rượu (k=7): {} %'.format(round(acc1*100,2)))"
   ]
  },
  {
   "cell_type": "code",
   "execution_count": 18,
   "metadata": {},
   "outputs": [
    {
     "name": "stdout",
     "output_type": "stream",
     "text": [
      "Độ chính xác của mô hình phân lớp rượu (k=11): 71.11 %\n"
     ]
    }
   ],
   "source": [
    "# Thay đổi tham số n_neighbors:\n",
    "\n",
    "KNN_wine1 = KNeighborsClassifier(n_neighbors=11)\n",
    "\n",
    "KNN_wine1.fit(X_train,y_train)\n",
    "\n",
    "y_pred = KNN_wine1.predict(X_test)\n",
    "\n",
    "acc1 = accuracy_score(y_test, y_pred)\n",
    "print('Độ chính xác của mô hình phân lớp rượu (k=11): {} %'.format(round(acc1*100,2)))"
   ]
  },
  {
   "cell_type": "code",
   "execution_count": 19,
   "metadata": {},
   "outputs": [
    {
     "name": "stdout",
     "output_type": "stream",
     "text": [
      "Độ chính xác của mô hình phân lớp rượu (k=13): 71.11 %\n"
     ]
    }
   ],
   "source": [
    "# Thay đổi tham số n_neighbors:\n",
    "\n",
    "KNN_wine1 = KNeighborsClassifier(n_neighbors=13)\n",
    "\n",
    "KNN_wine1.fit(X_train,y_train)\n",
    "\n",
    "y_pred = KNN_wine1.predict(X_test)\n",
    "\n",
    "acc1 = accuracy_score(y_test, y_pred)\n",
    "print('Độ chính xác của mô hình phân lớp rượu (k=13): {} %'.format(round(acc1*100,2)))"
   ]
  },
  {
   "cell_type": "code",
   "execution_count": 20,
   "metadata": {},
   "outputs": [
    {
     "name": "stdout",
     "output_type": "stream",
     "text": [
      "Độ chính xác của mô hình phân lớp rượu (k=9): 68.89 %\n"
     ]
    }
   ],
   "source": [
    "# Thay đổi tham số n_neighbors:\n",
    "\n",
    "KNN_wine1 = KNeighborsClassifier(n_neighbors=9)\n",
    "\n",
    "KNN_wine1.fit(X_train,y_train)\n",
    "\n",
    "y_pred = KNN_wine1.predict(X_test)\n",
    "\n",
    "acc1 = accuracy_score(y_test, y_pred)\n",
    "print('Độ chính xác của mô hình phân lớp rượu (k=9): {} %'.format(round(acc1*100,2)))"
   ]
  },
  {
   "cell_type": "code",
   "execution_count": null,
   "metadata": {},
   "outputs": [],
   "source": []
  },
  {
   "cell_type": "code",
   "execution_count": null,
   "metadata": {},
   "outputs": [],
   "source": []
  }
 ],
 "metadata": {
  "kernelspec": {
   "display_name": "Python 3",
   "language": "python",
   "name": "python3"
  },
  "language_info": {
   "codemirror_mode": {
    "name": "ipython",
    "version": 3
   },
   "file_extension": ".py",
   "mimetype": "text/x-python",
   "name": "python",
   "nbconvert_exporter": "python",
   "pygments_lexer": "ipython3",
   "version": "3.8.5"
  }
 },
 "nbformat": 4,
 "nbformat_minor": 2
}
